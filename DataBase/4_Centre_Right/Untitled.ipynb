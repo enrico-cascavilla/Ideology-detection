{
 "cells": [
  {
   "cell_type": "code",
   "execution_count": 34,
   "metadata": {},
   "outputs": [],
   "source": [
    "import pandas as pd\n",
    "import numpy as np\n",
    "import matplotlib.pyplot as plt\n",
    "import requests\n",
    "import twitter\n",
    "import re\n",
    "import datetime"
   ]
  },
  {
   "cell_type": "code",
   "execution_count": 35,
   "metadata": {},
   "outputs": [],
   "source": [
    "pd.options.display.max_rows=1000\n",
    "pd.options.display.max_columns=1000"
   ]
  },
  {
   "cell_type": "code",
   "execution_count": 36,
   "metadata": {},
   "outputs": [],
   "source": [
    "np.set_printoptions(threshold=np.inf)\n",
    "pd.options.display.max_colwidth = 1000"
   ]
  },
  {
   "cell_type": "code",
   "execution_count": 37,
   "metadata": {},
   "outputs": [],
   "source": [
    "O_Really = pd.read_csv('O_Really.csv')\n",
    "Sullivan = pd.read_csv('Sullivan.csv')\n",
    "George = pd.read_csv('George.csv')\n",
    "Murray = pd.read_csv('Murray.csv')\n",
    "Williams = pd.read_csv('Williams.csv')\n",
    "Kristol = pd.read_csv('Kristol.csv')\n",
    "Will = pd.read_csv('Will.csv')\n",
    "Beck = pd.read_csv('Beck.csv')\n",
    "Charen = pd.read_csv('Charen.csv')\n",
    "Frum = pd.read_csv('Frum.csv')\n",
    "Carlson = pd.read_csv('Carlson.csv')\n",
    "Napolitano = pd.read_csv('Napolitano.csv', engine='python')\n",
    "Kimball = pd.read_csv('Kimball.csv')\n",
    "Malloch = pd.read_csv('Malloch.csv')\n",
    "Malkin = pd.read_csv('Malkin.csv')\n",
    "Clarke = pd.read_csv('Clarke.csv')\n",
    "Rockwell = pd.read_csv('Rockwell.csv')\n",
    "Woods = pd.read_csv('Woods.csv')"
   ]
  },
  {
   "cell_type": "code",
   "execution_count": 38,
   "metadata": {},
   "outputs": [],
   "source": [
    "def remove_name(df):\n",
    "    name = list(df.handle[0].split())\n",
    "    name.append(name[0]+name[1])\n",
    "    df = df.dropna()\n",
    "    #df.text = df.text.apply(lambda x : x.replace('#'))\n",
    "    for n in name:\n",
    "        df.text = df.text.apply(lambda x : x.lower().replace(n.lower(),''))\n",
    "   \n",
    "    return df"
   ]
  },
  {
   "cell_type": "code",
   "execution_count": 39,
   "metadata": {},
   "outputs": [
    {
     "name": "stderr",
     "output_type": "stream",
     "text": [
      "/anaconda3/lib/python3.6/site-packages/pandas/core/generic.py:5096: SettingWithCopyWarning: \n",
      "A value is trying to be set on a copy of a slice from a DataFrame.\n",
      "Try using .loc[row_indexer,col_indexer] = value instead\n",
      "\n",
      "See the caveats in the documentation: http://pandas.pydata.org/pandas-docs/stable/indexing.html#indexing-view-versus-copy\n",
      "  self[name] = value\n"
     ]
    }
   ],
   "source": [
    "O_Really = remove_name(O_Really)\n",
    "Sullivan = remove_name(Sullivan)\n",
    "George = remove_name(George)\n",
    "Murray = remove_name(Murray)\n",
    "Williams = remove_name(Williams)\n",
    "Kristol = remove_name(Kristol)\n",
    "Will = remove_name(Will)\n",
    "Beck = remove_name(Beck)\n",
    "Charen = remove_name(Charen)\n",
    "Frum = remove_name(Frum)\n",
    "Carlson = remove_name(Carlson)\n",
    "Napolitano = remove_name(Napolitano)\n",
    "Kimball = remove_name(Kimball)\n",
    "Malloch = remove_name(Malloch)\n",
    "Malkin = remove_name(Malkin)\n",
    "Clarke = remove_name(Clarke)\n",
    "Rockwell = remove_name(Rockwell)\n",
    "Woods = remove_name(Woods)"
   ]
  },
  {
   "cell_type": "code",
   "execution_count": null,
   "metadata": {},
   "outputs": [],
   "source": []
  },
  {
   "cell_type": "code",
   "execution_count": 40,
   "metadata": {},
   "outputs": [
    {
     "name": "stderr",
     "output_type": "stream",
     "text": [
      "/anaconda3/lib/python3.6/site-packages/ipykernel_launcher.py:3: FutureWarning: Sorting because non-concatenation axis is not aligned. A future version\n",
      "of pandas will change to not sort by default.\n",
      "\n",
      "To accept the future behavior, pass 'sort=False'.\n",
      "\n",
      "To retain the current behavior and silence the warning, pass 'sort=True'.\n",
      "\n",
      "  This is separate from the ipykernel package so we can avoid doing imports until\n"
     ]
    },
    {
     "data": {
      "text/plain": [
       "(49571, 7)"
      ]
     },
     "execution_count": 40,
     "metadata": {},
     "output_type": "execute_result"
    }
   ],
   "source": [
    "Centre_Right = pd.concat([O_Really, Sullivan, George, Murray, Williams, Kristol, Will, Beck, \n",
    "                          Charen, Frum, Carlson, Napolitano, Kimball, Malloch, Malkin,\n",
    "                         Clarke, Rockwell, Woods])\n",
    "Centre_Right.shape\n"
   ]
  },
  {
   "cell_type": "code",
   "execution_count": 41,
   "metadata": {},
   "outputs": [
    {
     "data": {
      "text/plain": [
       "Bill O'Reilly       3250\n",
       "David Frum          3245\n",
       "Bill Kristol        3240\n",
       "Tucker Carlson      3239\n",
       "Judge Napolitano    3222\n",
       "David Clarke        3221\n",
       "Lew Rockwell        3219\n",
       "Charles Murray      3218\n",
       "Tom Woods           3216\n",
       "Mona Charen         3216\n",
       "Andrew Sullivan     3212\n",
       "Glenn Beck          3210\n",
       "Robert George       3208\n",
       "Michelle Malkin     3206\n",
       "Roger Kimball       3182\n",
       "Walter Williams      562\n",
       "George Will          549\n",
       "Ted Malloch          156\n",
       "Name: handle, dtype: int64"
      ]
     },
     "execution_count": 41,
     "metadata": {},
     "output_type": "execute_result"
    }
   ],
   "source": [
    "Centre_Right.handle.value_counts()"
   ]
  },
  {
   "cell_type": "code",
   "execution_count": 42,
   "metadata": {},
   "outputs": [],
   "source": [
    "Centre_Right = Centre_Right.drop('Unnamed: 0', axis=1)"
   ]
  },
  {
   "cell_type": "code",
   "execution_count": 43,
   "metadata": {},
   "outputs": [],
   "source": [
    "Centre_Right['Political Orientation'] = 'Conservative'"
   ]
  },
  {
   "cell_type": "code",
   "execution_count": 44,
   "metadata": {},
   "outputs": [],
   "source": [
    "Centre_Right.to_csv('Centre_Right.csv', index=False)"
   ]
  },
  {
   "cell_type": "code",
   "execution_count": null,
   "metadata": {},
   "outputs": [],
   "source": []
  },
  {
   "cell_type": "code",
   "execution_count": null,
   "metadata": {},
   "outputs": [],
   "source": []
  }
 ],
 "metadata": {
  "kernelspec": {
   "display_name": "Python 3",
   "language": "python",
   "name": "python3"
  },
  "language_info": {
   "codemirror_mode": {
    "name": "ipython",
    "version": 3
   },
   "file_extension": ".py",
   "mimetype": "text/x-python",
   "name": "python",
   "nbconvert_exporter": "python",
   "pygments_lexer": "ipython3",
   "version": "3.6.8"
  }
 },
 "nbformat": 4,
 "nbformat_minor": 2
}
