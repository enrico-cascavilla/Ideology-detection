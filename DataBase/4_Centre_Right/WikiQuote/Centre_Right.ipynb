{
 "cells": [
  {
   "cell_type": "code",
   "execution_count": 131,
   "metadata": {},
   "outputs": [],
   "source": [
    "import pandas as pd\n",
    "import wikiquotes"
   ]
  },
  {
   "cell_type": "code",
   "execution_count": 132,
   "metadata": {},
   "outputs": [],
   "source": [
    "pd.options.display.max_rows=1000"
   ]
  },
  {
   "cell_type": "code",
   "execution_count": 133,
   "metadata": {},
   "outputs": [],
   "source": [
    "def centre_right_quotes(author, file_name):#, nationality):\n",
    "    quotes = wikiquotes.get_quotes(author, 'english')\n",
    "    csv = '.csv'\n",
    "    df = pd.DataFrame({'Quotes': quotes,\n",
    "                       'Author': author,\n",
    "                       'Political Orientation': 'Conservatives'})#,\n",
    "#                       'Nationality': nationality})\n",
    "    df.to_csv(file_name+csv, index=False)#, sep='\\t',encoding='utf-8')\n",
    "    return df"
   ]
  },
  {
   "cell_type": "markdown",
   "metadata": {},
   "source": [
    "Bill O'Reilly"
   ]
  },
  {
   "cell_type": "code",
   "execution_count": 134,
   "metadata": {},
   "outputs": [],
   "source": [
    "O_Reilly = centre_right_quotes('Bill O\\'Reilly (commentator)', 'O_Reilly')"
   ]
  },
  {
   "cell_type": "markdown",
   "metadata": {},
   "source": [
    "Barry Goldwater"
   ]
  },
  {
   "cell_type": "code",
   "execution_count": 135,
   "metadata": {},
   "outputs": [],
   "source": [
    "Goldwater = centre_right_quotes('Barry Goldwater', 'Goldwater')"
   ]
  },
  {
   "cell_type": "markdown",
   "metadata": {},
   "source": [
    "Andrew Sullivan"
   ]
  },
  {
   "cell_type": "code",
   "execution_count": 136,
   "metadata": {},
   "outputs": [],
   "source": [
    "Sullivan = centre_right_quotes('Andrew Sullivan', 'Sullivan')"
   ]
  },
  {
   "cell_type": "markdown",
   "metadata": {},
   "source": [
    "Robert P. George"
   ]
  },
  {
   "cell_type": "code",
   "execution_count": 137,
   "metadata": {},
   "outputs": [],
   "source": [
    "George = centre_right_quotes('Robert P. George', 'George')"
   ]
  },
  {
   "cell_type": "markdown",
   "metadata": {},
   "source": [
    "Roger Stone"
   ]
  },
  {
   "cell_type": "code",
   "execution_count": 138,
   "metadata": {},
   "outputs": [],
   "source": [
    "Stone = centre_right_quotes('Roger Stone', 'Stone')"
   ]
  },
  {
   "cell_type": "markdown",
   "metadata": {},
   "source": [
    "Paul Manafort"
   ]
  },
  {
   "cell_type": "code",
   "execution_count": 139,
   "metadata": {},
   "outputs": [],
   "source": [
    "Manafort = centre_right_quotes('Paul Manafort', 'Manafort')"
   ]
  },
  {
   "cell_type": "markdown",
   "metadata": {},
   "source": [
    "Milton Friedman"
   ]
  },
  {
   "cell_type": "code",
   "execution_count": 140,
   "metadata": {},
   "outputs": [],
   "source": [
    "M_Friedman = centre_right_quotes('Milton Friedman', 'Friedman')"
   ]
  },
  {
   "cell_type": "markdown",
   "metadata": {},
   "source": [
    "Thomas Sowell"
   ]
  },
  {
   "cell_type": "code",
   "execution_count": 141,
   "metadata": {},
   "outputs": [],
   "source": [
    "Sowell = centre_right_quotes('Thomas Sowell', 'Sowell')"
   ]
  },
  {
   "cell_type": "markdown",
   "metadata": {},
   "source": [
    "Charles Murray (author)"
   ]
  },
  {
   "cell_type": "code",
   "execution_count": 142,
   "metadata": {},
   "outputs": [],
   "source": [
    "Murray = centre_right_quotes('Charles Murray (author)', 'Murray')"
   ]
  },
  {
   "cell_type": "markdown",
   "metadata": {},
   "source": [
    "Kevin D. Williamson"
   ]
  },
  {
   "cell_type": "code",
   "execution_count": 143,
   "metadata": {},
   "outputs": [],
   "source": [
    "Williamson = centre_right_quotes('Kevin D. Williamson', 'Williamson')"
   ]
  },
  {
   "cell_type": "markdown",
   "metadata": {},
   "source": [
    "Walter E. Williams"
   ]
  },
  {
   "cell_type": "code",
   "execution_count": 144,
   "metadata": {},
   "outputs": [],
   "source": [
    "Williams = centre_right_quotes('Walter E. Williams', 'Williams')"
   ]
  },
  {
   "cell_type": "markdown",
   "metadata": {},
   "source": [
    "Robert Lucas Jr."
   ]
  },
  {
   "cell_type": "code",
   "execution_count": 145,
   "metadata": {},
   "outputs": [],
   "source": [
    "Lucas_Jr = centre_right_quotes('Robert Lucas Jr.', 'Lucas_Jr.')"
   ]
  },
  {
   "cell_type": "markdown",
   "metadata": {},
   "source": [
    "William F. Buckley, Jr."
   ]
  },
  {
   "cell_type": "code",
   "execution_count": 146,
   "metadata": {},
   "outputs": [],
   "source": [
    "Buckley_Jr = centre_right_quotes('William F. Buckley, Jr.', 'Buckley_Jr')"
   ]
  },
  {
   "cell_type": "markdown",
   "metadata": {},
   "source": [
    "Andrew Breitbart"
   ]
  },
  {
   "cell_type": "code",
   "execution_count": 147,
   "metadata": {},
   "outputs": [],
   "source": [
    "Breitbart = centre_right_quotes('Andrew Breitbart', 'Breitbart')"
   ]
  },
  {
   "cell_type": "markdown",
   "metadata": {},
   "source": [
    "Bill Kristol"
   ]
  },
  {
   "cell_type": "code",
   "execution_count": 148,
   "metadata": {},
   "outputs": [],
   "source": [
    "Kristol = centre_right_quotes('Bill Kristol', 'Kristol')"
   ]
  },
  {
   "cell_type": "markdown",
   "metadata": {},
   "source": [
    "David Friedman"
   ]
  },
  {
   "cell_type": "code",
   "execution_count": 149,
   "metadata": {},
   "outputs": [],
   "source": [
    "D_Friedman = centre_right_quotes('David Friedman', 'Friedman')"
   ]
  },
  {
   "cell_type": "markdown",
   "metadata": {},
   "source": [
    "William Happer"
   ]
  },
  {
   "cell_type": "code",
   "execution_count": 150,
   "metadata": {},
   "outputs": [],
   "source": [
    "Happer = centre_right_quotes('William Happer', 'Happer')"
   ]
  },
  {
   "cell_type": "markdown",
   "metadata": {},
   "source": [
    "Ben Stein"
   ]
  },
  {
   "cell_type": "code",
   "execution_count": 151,
   "metadata": {},
   "outputs": [],
   "source": [
    "Stein = centre_right_quotes('Ben Stein', 'Stein')"
   ]
  },
  {
   "cell_type": "markdown",
   "metadata": {},
   "source": [
    "Glenn Beck"
   ]
  },
  {
   "cell_type": "code",
   "execution_count": 152,
   "metadata": {},
   "outputs": [],
   "source": [
    "Beck = centre_right_quotes('Glenn Beck', 'Beck')"
   ]
  },
  {
   "cell_type": "markdown",
   "metadata": {},
   "source": [
    "Mona Charen"
   ]
  },
  {
   "cell_type": "code",
   "execution_count": 153,
   "metadata": {},
   "outputs": [],
   "source": [
    "Charen = centre_right_quotes('Mona Charen', 'Charen')"
   ]
  },
  {
   "cell_type": "markdown",
   "metadata": {},
   "source": [
    "David Frum"
   ]
  },
  {
   "cell_type": "code",
   "execution_count": 154,
   "metadata": {},
   "outputs": [],
   "source": [
    "Frum = centre_right_quotes('David Frum', 'Frum')"
   ]
  },
  {
   "cell_type": "markdown",
   "metadata": {},
   "source": [
    "David Horowitz"
   ]
  },
  {
   "cell_type": "code",
   "execution_count": 155,
   "metadata": {},
   "outputs": [],
   "source": [
    "Horowitz = centre_right_quotes('David Horowitz', 'Horowitz')"
   ]
  },
  {
   "cell_type": "code",
   "execution_count": 156,
   "metadata": {},
   "outputs": [
    {
     "data": {
      "text/html": [
       "<div>\n",
       "<style scoped>\n",
       "    .dataframe tbody tr th:only-of-type {\n",
       "        vertical-align: middle;\n",
       "    }\n",
       "\n",
       "    .dataframe tbody tr th {\n",
       "        vertical-align: top;\n",
       "    }\n",
       "\n",
       "    .dataframe thead th {\n",
       "        text-align: right;\n",
       "    }\n",
       "</style>\n",
       "<table border=\"1\" class=\"dataframe\">\n",
       "  <thead>\n",
       "    <tr style=\"text-align: right;\">\n",
       "      <th></th>\n",
       "      <th>Quotes</th>\n",
       "      <th>Author</th>\n",
       "      <th>Political Orientation</th>\n",
       "    </tr>\n",
       "  </thead>\n",
       "  <tbody>\n",
       "    <tr>\n",
       "      <th>5</th>\n",
       "      <td>The black middle-class in America is a prosper...</td>\n",
       "      <td>David Horowitz</td>\n",
       "      <td>Conservatives</td>\n",
       "    </tr>\n",
       "    <tr>\n",
       "      <th>6</th>\n",
       "      <td>On campuses across this country, embedded in t...</td>\n",
       "      <td>David Horowitz</td>\n",
       "      <td>Conservatives</td>\n",
       "    </tr>\n",
       "    <tr>\n",
       "      <th>7</th>\n",
       "      <td>They are radical groups who identify with the ...</td>\n",
       "      <td>David Horowitz</td>\n",
       "      <td>Conservatives</td>\n",
       "    </tr>\n",
       "    <tr>\n",
       "      <th>8</th>\n",
       "      <td>Baghdad is liberated. In the days to come let ...</td>\n",
       "      <td>David Horowitz</td>\n",
       "      <td>Conservatives</td>\n",
       "    </tr>\n",
       "    <tr>\n",
       "      <th>9</th>\n",
       "      <td>Politics is about winning. If you don’t win, y...</td>\n",
       "      <td>David Horowitz</td>\n",
       "      <td>Conservatives</td>\n",
       "    </tr>\n",
       "    <tr>\n",
       "      <th>10</th>\n",
       "      <td>Until the arrival of Arafat and the Palestinia...</td>\n",
       "      <td>David Horowitz</td>\n",
       "      <td>Conservatives</td>\n",
       "    </tr>\n",
       "    <tr>\n",
       "      <th>11</th>\n",
       "      <td>The source of the terror in Lebanon as in Iraq...</td>\n",
       "      <td>David Horowitz</td>\n",
       "      <td>Conservatives</td>\n",
       "    </tr>\n",
       "    <tr>\n",
       "      <th>12</th>\n",
       "      <td>We are divided not only about political facts ...</td>\n",
       "      <td>David Horowitz</td>\n",
       "      <td>Conservatives</td>\n",
       "    </tr>\n",
       "    <tr>\n",
       "      <th>13</th>\n",
       "      <td>I have written a book with Jacob Laksin about ...</td>\n",
       "      <td>David Horowitz</td>\n",
       "      <td>Conservatives</td>\n",
       "    </tr>\n",
       "    <tr>\n",
       "      <th>14</th>\n",
       "      <td>I'm an agnostic, but I understand that a book ...</td>\n",
       "      <td>David Horowitz</td>\n",
       "      <td>Conservatives</td>\n",
       "    </tr>\n",
       "  </tbody>\n",
       "</table>\n",
       "</div>"
      ],
      "text/plain": [
       "                                               Quotes          Author  \\\n",
       "5   The black middle-class in America is a prosper...  David Horowitz   \n",
       "6   On campuses across this country, embedded in t...  David Horowitz   \n",
       "7   They are radical groups who identify with the ...  David Horowitz   \n",
       "8   Baghdad is liberated. In the days to come let ...  David Horowitz   \n",
       "9   Politics is about winning. If you don’t win, y...  David Horowitz   \n",
       "10  Until the arrival of Arafat and the Palestinia...  David Horowitz   \n",
       "11  The source of the terror in Lebanon as in Iraq...  David Horowitz   \n",
       "12  We are divided not only about political facts ...  David Horowitz   \n",
       "13  I have written a book with Jacob Laksin about ...  David Horowitz   \n",
       "14  I'm an agnostic, but I understand that a book ...  David Horowitz   \n",
       "\n",
       "   Political Orientation  \n",
       "5          Conservatives  \n",
       "6          Conservatives  \n",
       "7          Conservatives  \n",
       "8          Conservatives  \n",
       "9          Conservatives  \n",
       "10         Conservatives  \n",
       "11         Conservatives  \n",
       "12         Conservatives  \n",
       "13         Conservatives  \n",
       "14         Conservatives  "
      ]
     },
     "execution_count": 156,
     "metadata": {},
     "output_type": "execute_result"
    }
   ],
   "source": [
    "Horowitz = Horowitz.iloc[5:,:]\n",
    "Horowitz"
   ]
  },
  {
   "cell_type": "markdown",
   "metadata": {},
   "source": [
    "Jeane Kirkpatrick"
   ]
  },
  {
   "cell_type": "code",
   "execution_count": 157,
   "metadata": {},
   "outputs": [],
   "source": [
    "Kirkpatrick = centre_right_quotes('Jeane Kirkpatrick', 'Kirkpatrick')"
   ]
  },
  {
   "cell_type": "markdown",
   "metadata": {},
   "source": [
    "Charles Krauthammer "
   ]
  },
  {
   "cell_type": "code",
   "execution_count": 158,
   "metadata": {},
   "outputs": [],
   "source": [
    "Krauthammer = centre_right_quotes('Charles Krauthammer', 'Krauthammer')"
   ]
  },
  {
   "cell_type": "markdown",
   "metadata": {},
   "source": [
    "Irving Kristol"
   ]
  },
  {
   "cell_type": "code",
   "execution_count": 159,
   "metadata": {},
   "outputs": [],
   "source": [
    "I_Kristol = centre_right_quotes('Irving Kristol', 'Kristol')"
   ]
  },
  {
   "cell_type": "markdown",
   "metadata": {},
   "source": [
    "W. Cleon Skousen"
   ]
  },
  {
   "cell_type": "code",
   "execution_count": 160,
   "metadata": {},
   "outputs": [],
   "source": [
    "Skousen = centre_right_quotes('W. Cleon Skousen', 'Skousen')"
   ]
  },
  {
   "cell_type": "markdown",
   "metadata": {},
   "source": [
    "Rush Limbaugh"
   ]
  },
  {
   "cell_type": "code",
   "execution_count": 161,
   "metadata": {},
   "outputs": [],
   "source": [
    "Limbaugh = centre_right_quotes('Rush Limbaugh', 'Limbaugh')"
   ]
  },
  {
   "cell_type": "code",
   "execution_count": null,
   "metadata": {},
   "outputs": [],
   "source": []
  },
  {
   "cell_type": "code",
   "execution_count": null,
   "metadata": {},
   "outputs": [],
   "source": []
  },
  {
   "cell_type": "code",
   "execution_count": null,
   "metadata": {},
   "outputs": [],
   "source": []
  },
  {
   "cell_type": "code",
   "execution_count": null,
   "metadata": {},
   "outputs": [],
   "source": []
  },
  {
   "cell_type": "markdown",
   "metadata": {},
   "source": [
    "Margaret Thatcher -- ancora da decidere"
   ]
  },
  {
   "cell_type": "code",
   "execution_count": 162,
   "metadata": {},
   "outputs": [],
   "source": [
    "Thatcher = centre_right_quotes('Margaret Thatcher', 'Thatcher')"
   ]
  },
  {
   "cell_type": "code",
   "execution_count": 163,
   "metadata": {},
   "outputs": [
    {
     "data": {
      "text/plain": [
       "(306, 3)"
      ]
     },
     "execution_count": 163,
     "metadata": {},
     "output_type": "execute_result"
    }
   ],
   "source": [
    "Thatcher.shape"
   ]
  },
  {
   "cell_type": "code",
   "execution_count": null,
   "metadata": {},
   "outputs": [],
   "source": []
  },
  {
   "cell_type": "code",
   "execution_count": null,
   "metadata": {},
   "outputs": [],
   "source": []
  },
  {
   "cell_type": "code",
   "execution_count": null,
   "metadata": {},
   "outputs": [],
   "source": []
  },
  {
   "cell_type": "code",
   "execution_count": null,
   "metadata": {},
   "outputs": [],
   "source": []
  },
  {
   "cell_type": "code",
   "execution_count": 164,
   "metadata": {},
   "outputs": [],
   "source": [
    "Centre_Right = pd.concat([O_Reilly, Goldwater, Sullivan, George, Stone, Manafort,\n",
    "                          M_Friedman, Sowell, Murray, Williamson, Williams, Lucas_Jr,\n",
    "                         Buckley_Jr, Breitbart, Kristol, D_Friedman, Happer, Stein,\n",
    "                         Beck, Charen, Frum, Horowitz, Kirkpatrick, Krauthammer, I_Kristol,\n",
    "                         Skousen, Limbaugh])"
   ]
  },
  {
   "cell_type": "code",
   "execution_count": null,
   "metadata": {},
   "outputs": [],
   "source": []
  },
  {
   "cell_type": "code",
   "execution_count": 165,
   "metadata": {},
   "outputs": [
    {
     "data": {
      "text/plain": [
       "(907, 3)"
      ]
     },
     "execution_count": 165,
     "metadata": {},
     "output_type": "execute_result"
    }
   ],
   "source": [
    "Centre_Right.shape"
   ]
  },
  {
   "cell_type": "code",
   "execution_count": 166,
   "metadata": {},
   "outputs": [],
   "source": [
    "Centre_Right.to_csv('centre_right.csv', index=False)"
   ]
  },
  {
   "cell_type": "code",
   "execution_count": null,
   "metadata": {},
   "outputs": [],
   "source": []
  }
 ],
 "metadata": {
  "kernelspec": {
   "display_name": "Python 3",
   "language": "python",
   "name": "python3"
  },
  "language_info": {
   "codemirror_mode": {
    "name": "ipython",
    "version": 3
   },
   "file_extension": ".py",
   "mimetype": "text/x-python",
   "name": "python",
   "nbconvert_exporter": "python",
   "pygments_lexer": "ipython3",
   "version": "3.6.8"
  }
 },
 "nbformat": 4,
 "nbformat_minor": 2
}
