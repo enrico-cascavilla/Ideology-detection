{
 "cells": [
  {
   "cell_type": "code",
   "execution_count": 35,
   "metadata": {},
   "outputs": [],
   "source": [
    "import pandas as pd\n",
    "import numpy as np\n",
    "import matplotlib.pyplot as plt\n",
    "import requests\n",
    "import twitter\n",
    "import re\n",
    "import datetime"
   ]
  },
  {
   "cell_type": "code",
   "execution_count": 36,
   "metadata": {},
   "outputs": [],
   "source": [
    "pd.options.display.max_rows=1000\n",
    "pd.options.display.max_columns=1000"
   ]
  },
  {
   "cell_type": "code",
   "execution_count": 37,
   "metadata": {},
   "outputs": [],
   "source": [
    "np.set_printoptions(threshold=np.inf)\n",
    "pd.options.display.max_colwidth = 1000"
   ]
  },
  {
   "cell_type": "code",
   "execution_count": 38,
   "metadata": {},
   "outputs": [],
   "source": [
    "Haidt = pd.read_csv('Haidt.csv')\n",
    "Bremmer = pd.read_csv('Bremmer.csv')\n",
    "Friedman = pd.read_csv('Friedman.csv')\n",
    "Brooks = pd.read_csv('Brooks.csv')\n",
    "Avlon = pd.read_csv('Avlon.csv')\n",
    "Huffington = pd.read_csv('Huffington.csv')\n",
    "Bernanke = pd.read_csv('Bernanke.csv')\n",
    "Nye = pd.read_csv('Nye.csv')\n",
    "Walt = pd.read_csv('Walt.csv')\n",
    "Zakaria = pd.read_csv('Zakaria.csv')\n",
    "Marshall = pd.read_csv('Marshall.csv')\n",
    "Snowden = pd.read_csv('Snowden.csv')\n",
    "Wemple = pd.read_csv('Wemple.csv')\n",
    "Dowd = pd.read_csv('Dowd.csv')\n",
    "Summers = pd.read_csv('Summers.csv')"
   ]
  },
  {
   "cell_type": "code",
   "execution_count": 39,
   "metadata": {},
   "outputs": [],
   "source": [
    "def remove_name(df):\n",
    "    name = list(df.handle[0].split())\n",
    "    name.append(name[0]+name[1])\n",
    "    #df.text = df.text.apply(lambda x : x.replace('#'))\n",
    "    for n in name:\n",
    "        df.text = df.text.apply(lambda x : x.lower().replace(n.lower(),''))\n",
    "   \n",
    "    return df"
   ]
  },
  {
   "cell_type": "code",
   "execution_count": 40,
   "metadata": {},
   "outputs": [],
   "source": [
    "Haidt = remove_name(Haidt)\n",
    "Bremmer = remove_name(Bremmer)\n",
    "Friedman = remove_name(Friedman)\n",
    "Brooks = remove_name(Brooks)\n",
    "Avlon = remove_name(Avlon)\n",
    "Huffington = remove_name(Huffington)\n",
    "Bernanke = remove_name(Bernanke)\n",
    "Nye = remove_name(Nye)\n",
    "Walt = remove_name(Walt)\n",
    "Zakaria = remove_name(Zakaria)\n",
    "Marshall = remove_name(Marshall)\n",
    "Snowden = remove_name(Snowden)\n",
    "Wemple = remove_name(Wemple)\n",
    "Dowd = remove_name(Dowd)\n",
    "Summers = remove_name(Summers)"
   ]
  },
  {
   "cell_type": "code",
   "execution_count": 41,
   "metadata": {},
   "outputs": [
    {
     "name": "stderr",
     "output_type": "stream",
     "text": [
      "/anaconda3/lib/python3.6/site-packages/ipykernel_launcher.py:2: FutureWarning: Sorting because non-concatenation axis is not aligned. A future version\n",
      "of pandas will change to not sort by default.\n",
      "\n",
      "To accept the future behavior, pass 'sort=False'.\n",
      "\n",
      "To retain the current behavior and silence the warning, pass 'sort=True'.\n",
      "\n",
      "  \n"
     ]
    },
    {
     "data": {
      "text/plain": [
       "(35953, 7)"
      ]
     },
     "execution_count": 41,
     "metadata": {},
     "output_type": "execute_result"
    }
   ],
   "source": [
    "Centre = pd.concat([Haidt, Bremmer, Friedman, Brooks, Avlon, Huffington, Bernanke, Nye,\n",
    "                   Walt, Zakaria, Marshall, Snowden, Wemple, Dowd, Summers])\n",
    "Centre.shape"
   ]
  },
  {
   "cell_type": "code",
   "execution_count": 42,
   "metadata": {},
   "outputs": [],
   "source": [
    "Centre['Political Orientation'] = 'Moderate'"
   ]
  },
  {
   "cell_type": "code",
   "execution_count": 43,
   "metadata": {},
   "outputs": [],
   "source": [
    "Centre = Centre.drop('Unnamed: 0', axis=1)"
   ]
  },
  {
   "cell_type": "code",
   "execution_count": 44,
   "metadata": {},
   "outputs": [],
   "source": [
    "Centre.to_csv('Centre.csv', index=False)"
   ]
  },
  {
   "cell_type": "code",
   "execution_count": 45,
   "metadata": {},
   "outputs": [
    {
     "data": {
      "text/plain": [
       "Jonathan Haidt        3246\n",
       "Josh Marshall         3246\n",
       "John Avlon            3242\n",
       "Edward Snowden        3236\n",
       "Erik Wemple           3236\n",
       "Fareed Zakaria        3229\n",
       "Ian Bremmer           3224\n",
       "Stephen Walt          3223\n",
       "Arianna Huffington    3218\n",
       "Lawrence Summers      3212\n",
       "Maureen Dowd          1237\n",
       "David Brooks           888\n",
       "Thomas Friedman        765\n",
       "Joseph Nye             686\n",
       "Ben Bernanke            65\n",
       "Name: handle, dtype: int64"
      ]
     },
     "execution_count": 45,
     "metadata": {},
     "output_type": "execute_result"
    }
   ],
   "source": [
    "Centre.handle.value_counts()"
   ]
  },
  {
   "cell_type": "code",
   "execution_count": null,
   "metadata": {},
   "outputs": [],
   "source": []
  },
  {
   "cell_type": "code",
   "execution_count": null,
   "metadata": {},
   "outputs": [],
   "source": []
  },
  {
   "cell_type": "code",
   "execution_count": null,
   "metadata": {},
   "outputs": [],
   "source": []
  }
 ],
 "metadata": {
  "kernelspec": {
   "display_name": "Python 3",
   "language": "python",
   "name": "python3"
  },
  "language_info": {
   "codemirror_mode": {
    "name": "ipython",
    "version": 3
   },
   "file_extension": ".py",
   "mimetype": "text/x-python",
   "name": "python",
   "nbconvert_exporter": "python",
   "pygments_lexer": "ipython3",
   "version": "3.6.8"
  }
 },
 "nbformat": 4,
 "nbformat_minor": 2
}
