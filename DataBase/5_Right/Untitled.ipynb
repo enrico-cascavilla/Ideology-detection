{
 "cells": [
  {
   "cell_type": "code",
   "execution_count": 28,
   "metadata": {},
   "outputs": [],
   "source": [
    "import pandas as pd\n",
    "import numpy as np\n",
    "import matplotlib.pyplot as plt\n",
    "import requests\n",
    "import twitter\n",
    "import re\n",
    "import datetime"
   ]
  },
  {
   "cell_type": "code",
   "execution_count": 29,
   "metadata": {},
   "outputs": [],
   "source": [
    "pd.options.display.max_rows=1000\n",
    "pd.options.display.max_columns=1000\n"
   ]
  },
  {
   "cell_type": "code",
   "execution_count": 30,
   "metadata": {},
   "outputs": [],
   "source": [
    "np.set_printoptions(threshold=np.inf)\n",
    "pd.options.display.max_colwidth = 1000"
   ]
  },
  {
   "cell_type": "code",
   "execution_count": 31,
   "metadata": {},
   "outputs": [],
   "source": [
    "Goodhart = pd.read_csv('Goodhart.csv')\n",
    "Shapiro = pd.read_csv('Shapiro.csv')\n",
    "Duke = pd.read_csv('Duke.csv')\n",
    "Goodwin = pd.read_csv('Goodwin.csv')\n",
    "Kaufman = pd.read_csv('Kaufman.csv')\n",
    "Spencer = pd.read_csv('Spencer.csv')\n",
    "Invictus = pd.read_csv('Invictus.csv')\n",
    "Hitchens = pd.read_csv('Hitchens.csv')\n",
    "Gorka = pd.read_csv('Gorka.csv')\n",
    "Bannon = pd.read_csv('Bannon.csv')\n",
    "Coulter = pd.read_csv('Coulter.csv')\n",
    "Yiannopoulos = pd.read_csv('Yiannopoulos.csv')\n",
    "Sailer = pd.read_csv('Sailer.csv')\n",
    "Molyneux = pd.read_csv('Molyneux.csv')\n",
    "Cernovich = pd.read_csv('Cernovich.csv')\n",
    "Brimelow = pd.read_csv('Brimelow.csv')\n",
    "Hopkins = pd.read_csv('Hopkins.csv')"
   ]
  },
  {
   "cell_type": "code",
   "execution_count": 36,
   "metadata": {},
   "outputs": [],
   "source": [
    "def remove_name(df):\n",
    "    name = list(df.handle[0].split())\n",
    "    name.append(name[0]+name[1])\n",
    "    df = df.dropna()\n",
    "    #df.text = df.text.apply(lambda x : x.replace('#'))\n",
    "    for n in name:\n",
    "        df.text = df.text.apply(lambda x : x.lower().replace(n.lower(),''))\n",
    "   \n",
    "    return df"
   ]
  },
  {
   "cell_type": "code",
   "execution_count": 37,
   "metadata": {},
   "outputs": [
    {
     "name": "stderr",
     "output_type": "stream",
     "text": [
      "/anaconda3/lib/python3.6/site-packages/pandas/core/generic.py:5096: SettingWithCopyWarning: \n",
      "A value is trying to be set on a copy of a slice from a DataFrame.\n",
      "Try using .loc[row_indexer,col_indexer] = value instead\n",
      "\n",
      "See the caveats in the documentation: http://pandas.pydata.org/pandas-docs/stable/indexing.html#indexing-view-versus-copy\n",
      "  self[name] = value\n"
     ]
    }
   ],
   "source": [
    "Goodhart = remove_name(Goodhart)\n",
    "Shapiro = remove_name(Shapiro)\n",
    "Duke = remove_name(Duke)\n",
    "Goodwin = remove_name(Goodwin)\n",
    "Kaufman = remove_name(Kaufman)\n",
    "Spencer = remove_name(Spencer)\n",
    "Invictus = remove_name(Invictus)\n",
    "Hitchens = remove_name(Hitchens)\n",
    "Gorka = remove_name(Gorka)\n",
    "Bannon = remove_name(Bannon)\n",
    "Coulter = remove_name(Coulter)\n",
    "Yiannopoulos = remove_name(Yiannopoulos)\n",
    "Sailer = remove_name(Sailer)\n",
    "Molyneux = remove_name(Molyneux)\n",
    "Cernovich = remove_name(Cernovich)\n",
    "Brimelow = remove_name(Brimelow)\n",
    "Hopkins = remove_name(Hopkins)"
   ]
  },
  {
   "cell_type": "code",
   "execution_count": 38,
   "metadata": {},
   "outputs": [
    {
     "name": "stderr",
     "output_type": "stream",
     "text": [
      "/anaconda3/lib/python3.6/site-packages/ipykernel_launcher.py:3: FutureWarning: Sorting because non-concatenation axis is not aligned. A future version\n",
      "of pandas will change to not sort by default.\n",
      "\n",
      "To accept the future behavior, pass 'sort=False'.\n",
      "\n",
      "To retain the current behavior and silence the warning, pass 'sort=True'.\n",
      "\n",
      "  This is separate from the ipykernel package so we can avoid doing imports until\n"
     ]
    },
    {
     "data": {
      "text/plain": [
       "(48364, 7)"
      ]
     },
     "execution_count": 38,
     "metadata": {},
     "output_type": "execute_result"
    }
   ],
   "source": [
    "Right = pd.concat([Goodhart, Shapiro, Duke, Goodwin, Kaufman, Spencer, Invictus, Hitchens, \n",
    "                   Bannon, Gorka, Coulter, Yiannopoulos, Sailer, Brimelow, Cernovich, \n",
    "                   Molyneux, Hopkins])\n",
    "Right.shape"
   ]
  },
  {
   "cell_type": "code",
   "execution_count": 39,
   "metadata": {},
   "outputs": [
    {
     "data": {
      "text/plain": [
       "Steve Sailer         3238\n",
       "Sebastian Gorka      3233\n",
       "Ben Shapiro          3233\n",
       "Katie Hopkins        3216\n",
       "Eric Kaufmann        3215\n",
       "Stefan Molyneux      3207\n",
       "Peter Hitchens       3206\n",
       "Mike Cernovich       3206\n",
       "Matthew Goodwin      3204\n",
       "David Goodhart       3199\n",
       "Ann Coulter          3146\n",
       "David Duke           3107\n",
       "Richard Spencer      3004\n",
       "Augustus Invictus    2921\n",
       "Milo Yiannopoulos    2302\n",
       "Peter Brimelow       1609\n",
       "Steven Bannon         118\n",
       "Name: handle, dtype: int64"
      ]
     },
     "execution_count": 39,
     "metadata": {},
     "output_type": "execute_result"
    }
   ],
   "source": [
    "Right.handle.value_counts()"
   ]
  },
  {
   "cell_type": "code",
   "execution_count": 40,
   "metadata": {},
   "outputs": [],
   "source": [
    "Right['Political Orientation'] = 'Right'"
   ]
  },
  {
   "cell_type": "code",
   "execution_count": 41,
   "metadata": {},
   "outputs": [
    {
     "data": {
      "text/html": [
       "<div>\n",
       "<style scoped>\n",
       "    .dataframe tbody tr th:only-of-type {\n",
       "        vertical-align: middle;\n",
       "    }\n",
       "\n",
       "    .dataframe tbody tr th {\n",
       "        vertical-align: top;\n",
       "    }\n",
       "\n",
       "    .dataframe thead th {\n",
       "        text-align: right;\n",
       "    }\n",
       "</style>\n",
       "<table border=\"1\" class=\"dataframe\">\n",
       "  <thead>\n",
       "    <tr style=\"text-align: right;\">\n",
       "      <th></th>\n",
       "      <th>Unnamed: 0</th>\n",
       "      <th>created_at</th>\n",
       "      <th>handle</th>\n",
       "      <th>mined_at</th>\n",
       "      <th>retweet_count</th>\n",
       "      <th>text</th>\n",
       "      <th>tweet_id</th>\n",
       "      <th>Political Orientation</th>\n",
       "    </tr>\n",
       "  </thead>\n",
       "  <tbody>\n",
       "    <tr>\n",
       "      <th>0</th>\n",
       "      <td>NaN</td>\n",
       "      <td>Sun May 05 08:56:59 +0000 2019</td>\n",
       "      <td>David Goodhart</td>\n",
       "      <td>2019-05-05 16:56:55.502040</td>\n",
       "      <td>14.0</td>\n",
       "      <td>rt @allinbritain: allinbritain contributor, munira mirza in @telegraph on the sacking of noah carl at cambridge university and the rising i…</td>\n",
       "      <td>1.124961e+18</td>\n",
       "      <td>Right</td>\n",
       "    </tr>\n",
       "    <tr>\n",
       "      <th>1</th>\n",
       "      <td>NaN</td>\n",
       "      <td>Sun May 05 07:49:42 +0000 2019</td>\n",
       "      <td>David Goodhart</td>\n",
       "      <td>2019-05-05 16:56:55.502056</td>\n",
       "      <td>13.0</td>\n",
       "      <td>rt @spectator: the sacking of dr noah carl shows that academic freedom is being jettisoned for the sake of the affected feelings of an outr…</td>\n",
       "      <td>1.124944e+18</td>\n",
       "      <td>Right</td>\n",
       "    </tr>\n",
       "    <tr>\n",
       "      <th>2</th>\n",
       "      <td>NaN</td>\n",
       "      <td>Sun May 05 07:49:32 +0000 2019</td>\n",
       "      <td>David Goodhart</td>\n",
       "      <td>2019-05-05 16:56:55.502060</td>\n",
       "      <td>79.0</td>\n",
       "      <td>rt @clairlemon: there are hundreds of names i still have to add to the noah carl petition, so if you don't see your name yet, don't panic.…</td>\n",
       "      <td>1.124944e+18</td>\n",
       "      <td>Right</td>\n",
       "    </tr>\n",
       "    <tr>\n",
       "      <th>3</th>\n",
       "      <td>NaN</td>\n",
       "      <td>Sat May 04 06:53:00 +0000 2019</td>\n",
       "      <td>David Goodhart</td>\n",
       "      <td>2019-05-05 16:56:55.502063</td>\n",
       "      <td>29.0</td>\n",
       "      <td>rt @oxsoc: i'm not a great fan of quillette, but i've signed this because i believe it is important to take a principled stand especially w…</td>\n",
       "      <td>1.124568e+18</td>\n",
       "      <td>Right</td>\n",
       "    </tr>\n",
       "    <tr>\n",
       "      <th>4</th>\n",
       "      <td>NaN</td>\n",
       "      <td>Thu May 02 07:17:41 +0000 2019</td>\n",
       "      <td>David Goodhart</td>\n",
       "      <td>2019-05-05 16:56:55.502067</td>\n",
       "      <td>54.0</td>\n",
       "      <td>rt @epkaufm: until st edmunds and cambridge suffers reputational damage for this in excess of the minor damage they would have suffered in…</td>\n",
       "      <td>1.123849e+18</td>\n",
       "      <td>Right</td>\n",
       "    </tr>\n",
       "  </tbody>\n",
       "</table>\n",
       "</div>"
      ],
      "text/plain": [
       "   Unnamed: 0                      created_at          handle  \\\n",
       "0         NaN  Sun May 05 08:56:59 +0000 2019  David Goodhart   \n",
       "1         NaN  Sun May 05 07:49:42 +0000 2019  David Goodhart   \n",
       "2         NaN  Sun May 05 07:49:32 +0000 2019  David Goodhart   \n",
       "3         NaN  Sat May 04 06:53:00 +0000 2019  David Goodhart   \n",
       "4         NaN  Thu May 02 07:17:41 +0000 2019  David Goodhart   \n",
       "\n",
       "                     mined_at  retweet_count  \\\n",
       "0  2019-05-05 16:56:55.502040           14.0   \n",
       "1  2019-05-05 16:56:55.502056           13.0   \n",
       "2  2019-05-05 16:56:55.502060           79.0   \n",
       "3  2019-05-05 16:56:55.502063           29.0   \n",
       "4  2019-05-05 16:56:55.502067           54.0   \n",
       "\n",
       "                                                                                                                                           text  \\\n",
       "0  rt @allinbritain: allinbritain contributor, munira mirza in @telegraph on the sacking of noah carl at cambridge university and the rising i…   \n",
       "1  rt @spectator: the sacking of dr noah carl shows that academic freedom is being jettisoned for the sake of the affected feelings of an outr…   \n",
       "2   rt @clairlemon: there are hundreds of names i still have to add to the noah carl petition, so if you don't see your name yet, don't panic.…   \n",
       "3  rt @oxsoc: i'm not a great fan of quillette, but i've signed this because i believe it is important to take a principled stand especially w…   \n",
       "4   rt @epkaufm: until st edmunds and cambridge suffers reputational damage for this in excess of the minor damage they would have suffered in…   \n",
       "\n",
       "       tweet_id Political Orientation  \n",
       "0  1.124961e+18                 Right  \n",
       "1  1.124944e+18                 Right  \n",
       "2  1.124944e+18                 Right  \n",
       "3  1.124568e+18                 Right  \n",
       "4  1.123849e+18                 Right  "
      ]
     },
     "execution_count": 41,
     "metadata": {},
     "output_type": "execute_result"
    }
   ],
   "source": [
    "Right.head()"
   ]
  },
  {
   "cell_type": "code",
   "execution_count": 42,
   "metadata": {},
   "outputs": [
    {
     "data": {
      "text/plain": [
       "Index(['Unnamed: 0', 'created_at', 'handle', 'mined_at', 'retweet_count',\n",
       "       'text', 'tweet_id', 'Political Orientation'],\n",
       "      dtype='object')"
      ]
     },
     "execution_count": 42,
     "metadata": {},
     "output_type": "execute_result"
    }
   ],
   "source": [
    "Right.columns"
   ]
  },
  {
   "cell_type": "code",
   "execution_count": 43,
   "metadata": {},
   "outputs": [],
   "source": [
    "Right = Right.drop('Unnamed: 0', axis=1)"
   ]
  },
  {
   "cell_type": "code",
   "execution_count": 44,
   "metadata": {},
   "outputs": [],
   "source": [
    "Right.to_csv('Right.csv', index=False)"
   ]
  },
  {
   "cell_type": "code",
   "execution_count": null,
   "metadata": {},
   "outputs": [],
   "source": []
  }
 ],
 "metadata": {
  "kernelspec": {
   "display_name": "Python 3",
   "language": "python",
   "name": "python3"
  },
  "language_info": {
   "codemirror_mode": {
    "name": "ipython",
    "version": 3
   },
   "file_extension": ".py",
   "mimetype": "text/x-python",
   "name": "python",
   "nbconvert_exporter": "python",
   "pygments_lexer": "ipython3",
   "version": "3.6.8"
  }
 },
 "nbformat": 4,
 "nbformat_minor": 2
}
