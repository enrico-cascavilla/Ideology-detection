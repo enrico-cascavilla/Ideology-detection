{
 "cells": [
  {
   "cell_type": "code",
   "execution_count": 63,
   "metadata": {},
   "outputs": [],
   "source": [
    "import pandas as pd\n",
    "import numpy as np\n",
    "import matplotlib.pyplot as plt\n",
    "import requests\n",
    "import twitter\n",
    "import re\n",
    "import datetime"
   ]
  },
  {
   "cell_type": "code",
   "execution_count": 64,
   "metadata": {},
   "outputs": [],
   "source": [
    "pd.options.display.max_rows=1000\n",
    "pd.options.display.max_columns=1000"
   ]
  },
  {
   "cell_type": "code",
   "execution_count": 54,
   "metadata": {},
   "outputs": [],
   "source": [
    "np.set_printoptions(threshold=np.inf)\n",
    "pd.options.display.max_colwidth = 1000"
   ]
  },
  {
   "cell_type": "code",
   "execution_count": 65,
   "metadata": {},
   "outputs": [],
   "source": [
    "Krugman = pd.read_csv('Krugman.csv')\n",
    "Stiglitz = pd.read_csv('Stiglitz.csv')\n",
    "Mason = pd.read_csv('Mason.csv')\n",
    "Jones = pd.read_csv('Jones.csv')\n",
    "Soros = pd.read_csv('Soros.csv')\n",
    "Brazile = pd.read_csv('Brazile.csv', engine='python' )\n",
    "Carville = pd.read_csv('Carville.csv')\n",
    "Reich = pd.read_csv('Reich.csv')\n",
    "Lessig = pd.read_csv('Lessig.csv')\n",
    "Mckay = pd.read_csv('Mckay.csv')\n",
    "Greenwald = pd.read_csv('Greenwald.csv')\n",
    "E_Klein = pd.read_csv('Klein.csv')\n",
    "Kristof = pd.read_csv('Kristof .csv')\n",
    "Williams = pd.read_csv('Williams .csv')\n",
    "Gore = pd.read_csv('Gore .csv')\n",
    "Drum = pd.read_csv('Drum .csv')\n"
   ]
  },
  {
   "cell_type": "code",
   "execution_count": 66,
   "metadata": {},
   "outputs": [],
   "source": [
    "def remove_name(df):\n",
    "    name = list(df.handle[0].split())\n",
    "    name.append(name[0]+name[1])\n",
    "    df = df.dropna()\n",
    "    #df.text = df.text.apply(lambda x : x.replace('#'))\n",
    "    for n in name:\n",
    "        df.text = df.text.apply(lambda x : x.lower().replace(n.lower(),''))\n",
    "   \n",
    "    return df"
   ]
  },
  {
   "cell_type": "code",
   "execution_count": 67,
   "metadata": {},
   "outputs": [
    {
     "name": "stderr",
     "output_type": "stream",
     "text": [
      "/anaconda3/lib/python3.6/site-packages/pandas/core/generic.py:5096: SettingWithCopyWarning: \n",
      "A value is trying to be set on a copy of a slice from a DataFrame.\n",
      "Try using .loc[row_indexer,col_indexer] = value instead\n",
      "\n",
      "See the caveats in the documentation: http://pandas.pydata.org/pandas-docs/stable/indexing.html#indexing-view-versus-copy\n",
      "  self[name] = value\n"
     ]
    }
   ],
   "source": [
    "Krugman = remove_name(Krugman)\n",
    "Stiglitz = remove_name(Stiglitz)\n",
    "Mason = remove_name(Mason)\n",
    "Jones = remove_name(Jones)\n",
    "Soros = remove_name(Soros)\n",
    "Brazile = remove_name(Brazile)\n",
    "Carville = remove_name(Carville)\n",
    "Reich = remove_name(Reich)\n",
    "Lessig = remove_name(Lessig)\n",
    "Mckay = remove_name(Mckay)\n",
    "Greenwald = remove_name(Greenwald)\n",
    "E_Klein = remove_name(E_Klein)\n",
    "Kristof = remove_name(Kristof)\n",
    "Williams = remove_name(Williams)\n",
    "Gore = remove_name(Gore)\n",
    "Drum = remove_name(Drum)\n"
   ]
  },
  {
   "cell_type": "code",
   "execution_count": null,
   "metadata": {},
   "outputs": [],
   "source": []
  },
  {
   "cell_type": "code",
   "execution_count": null,
   "metadata": {},
   "outputs": [],
   "source": []
  },
  {
   "cell_type": "code",
   "execution_count": 68,
   "metadata": {},
   "outputs": [
    {
     "name": "stderr",
     "output_type": "stream",
     "text": [
      "/anaconda3/lib/python3.6/site-packages/ipykernel_launcher.py:2: FutureWarning: Sorting because non-concatenation axis is not aligned. A future version\n",
      "of pandas will change to not sort by default.\n",
      "\n",
      "To accept the future behavior, pass 'sort=False'.\n",
      "\n",
      "To retain the current behavior and silence the warning, pass 'sort=True'.\n",
      "\n",
      "  \n"
     ]
    }
   ],
   "source": [
    "Centre_Left = pd.concat([Krugman, Stiglitz, Mason, Jones, Soros, Brazile, Carville, Reich,\n",
    "                        Lessig, Mckay, Greenwald, E_Klein, Kristof, Williams, Gore, Drum])"
   ]
  },
  {
   "cell_type": "code",
   "execution_count": 69,
   "metadata": {},
   "outputs": [
    {
     "data": {
      "text/plain": [
       "(40741, 7)"
      ]
     },
     "execution_count": 69,
     "metadata": {},
     "output_type": "execute_result"
    }
   ],
   "source": [
    "Centre_Left.shape"
   ]
  },
  {
   "cell_type": "code",
   "execution_count": 70,
   "metadata": {},
   "outputs": [],
   "source": [
    "Centre_Left = Centre_Left.drop('Unnamed: 0', axis=1)"
   ]
  },
  {
   "cell_type": "code",
   "execution_count": 71,
   "metadata": {},
   "outputs": [],
   "source": [
    "Centre_Left['Political Orientation'] = 'Progressive'"
   ]
  },
  {
   "cell_type": "code",
   "execution_count": null,
   "metadata": {},
   "outputs": [],
   "source": []
  },
  {
   "cell_type": "code",
   "execution_count": 72,
   "metadata": {},
   "outputs": [],
   "source": [
    "Centre_Left.to_csv('Centre_Left.csv', index=False)"
   ]
  },
  {
   "cell_type": "code",
   "execution_count": null,
   "metadata": {},
   "outputs": [],
   "source": []
  }
 ],
 "metadata": {
  "kernelspec": {
   "display_name": "Python 3",
   "language": "python",
   "name": "python3"
  },
  "language_info": {
   "codemirror_mode": {
    "name": "ipython",
    "version": 3
   },
   "file_extension": ".py",
   "mimetype": "text/x-python",
   "name": "python",
   "nbconvert_exporter": "python",
   "pygments_lexer": "ipython3",
   "version": "3.6.8"
  }
 },
 "nbformat": 4,
 "nbformat_minor": 2
}
