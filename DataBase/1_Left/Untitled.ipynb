{
 "cells": [
  {
   "cell_type": "code",
   "execution_count": 1,
   "metadata": {},
   "outputs": [],
   "source": [
    "import pandas as pd\n",
    "import numpy as np\n",
    "import matplotlib.pyplot as plt\n",
    "import requests\n",
    "import twitter\n",
    "import re\n",
    "import datetime"
   ]
  },
  {
   "cell_type": "code",
   "execution_count": 2,
   "metadata": {},
   "outputs": [],
   "source": [
    "pd.options.display.max_rows=1000\n",
    "pd.options.display.max_columns=1000"
   ]
  },
  {
   "cell_type": "code",
   "execution_count": 3,
   "metadata": {},
   "outputs": [],
   "source": [
    "np.set_printoptions(threshold=np.inf)\n",
    "pd.options.display.max_colwidth = 1000"
   ]
  },
  {
   "cell_type": "code",
   "execution_count": 4,
   "metadata": {},
   "outputs": [],
   "source": [
    "Chomsky = pd.read_csv('Chomsky.csv')\n",
    "Klein = pd.read_csv('Klein.csv')\n",
    "Patel = pd.read_csv('Patel.csv')\n",
    "Monbiot = pd.read_csv('Monbiot.csv')\n",
    "Chossudovsky = pd.read_csv('Chossudovsky.csv')\n",
    "Harvey = pd.read_csv('Harvey.csv')\n",
    "TariqAli = pd.read_csv('TariqAli.csv')\n",
    "Moore = pd.read_csv('Moore.csv')\n",
    "Kazin = pd.read_csv('Kazin.csv')\n",
    "Wolff = pd.read_csv('Wolff.csv')\n",
    "Ellner = pd.read_csv('Ellner.csv')\n",
    "Milanovic = pd.read_csv('Milanovic.csv')\n",
    "Sunkara = pd.read_csv('Sunkara.csv')\n",
    "Barnett = pd.read_csv('Barnett.csv')\n",
    "Otsuka = pd.read_csv('Otsuka.csv')\n",
    "Dean = pd.read_csv('Dean.csv')\n",
    "Martin = pd.read_csv('Martin.csv')\n",
    "Bambery = pd.read_csv('Bambery.csv')\n",
    "Giroux = pd.read_csv('Giroux.csv')\n",
    "Graeber = pd.read_csv('Graeber.csv')\n",
    "Swanson = pd.read_csv('Swanson.csv')"
   ]
  },
  {
   "cell_type": "code",
   "execution_count": 5,
   "metadata": {},
   "outputs": [],
   "source": [
    "def remove_name(df):\n",
    "    name = list(df.handle[0].split())\n",
    "    name.append(name[0]+name[1])\n",
    "    #df.text = df.text.apply(lambda x : x.replace('#'))\n",
    "    for n in name:\n",
    "        df.text = df.text.apply(lambda x : x.lower().replace(n.lower(),''))\n",
    "   \n",
    "    return df"
   ]
  },
  {
   "cell_type": "code",
   "execution_count": 6,
   "metadata": {},
   "outputs": [],
   "source": [
    "Chomsky = remove_name(Chomsky)\n",
    "Klein = remove_name(Klein)\n",
    "Patel = remove_name(Patel)\n",
    "Monbiot = remove_name(Monbiot)\n",
    "Chossudovsky = remove_name(Chossudovsky)\n",
    "Harvey = remove_name(Harvey)\n",
    "TariqAli = remove_name(TariqAli)\n",
    "Moore = remove_name(Moore)\n",
    "Kazin = remove_name(Kazin)\n",
    "Wolff = remove_name(Wolff)\n",
    "Ellner = remove_name(Ellner)\n",
    "Milanovic = remove_name(Milanovic)\n",
    "Sunkara = remove_name(Sunkara)\n",
    "Barnett = remove_name(Barnett)\n",
    "Otsuka = remove_name(Otsuka)\n",
    "Dean = remove_name(Dean)\n",
    "Martin = remove_name(Martin)\n",
    "Bambery = remove_name(Bambery)\n",
    "Giroux = remove_name(Giroux)\n",
    "Graeber = remove_name(Graeber)\n",
    "Swanson = remove_name(Swanson)"
   ]
  },
  {
   "cell_type": "code",
   "execution_count": null,
   "metadata": {},
   "outputs": [],
   "source": []
  },
  {
   "cell_type": "code",
   "execution_count": null,
   "metadata": {},
   "outputs": [],
   "source": []
  },
  {
   "cell_type": "code",
   "execution_count": 48,
   "metadata": {},
   "outputs": [
    {
     "name": "stderr",
     "output_type": "stream",
     "text": [
      "/anaconda3/lib/python3.6/site-packages/ipykernel_launcher.py:3: FutureWarning: Sorting because non-concatenation axis is not aligned. A future version\n",
      "of pandas will change to not sort by default.\n",
      "\n",
      "To accept the future behavior, pass 'sort=False'.\n",
      "\n",
      "To retain the current behavior and silence the warning, pass 'sort=True'.\n",
      "\n",
      "  This is separate from the ipykernel package so we can avoid doing imports until\n"
     ]
    },
    {
     "data": {
      "text/plain": [
       "(57787, 8)"
      ]
     },
     "execution_count": 48,
     "metadata": {},
     "output_type": "execute_result"
    }
   ],
   "source": [
    "Left = pd.concat([Chomsky, Klein, Patel, Monbiot, Chossudovsky, Harvey, TariqAli, Moore,\n",
    "                 Kazin, Wolff, Ellner, Milanovic, Sunkara, Barnett, Otsuka, Dean, Martin,\n",
    "                 Bambery, Giroux, Graeber, Swanson])\n",
    "Left.shape"
   ]
  },
  {
   "cell_type": "code",
   "execution_count": 49,
   "metadata": {},
   "outputs": [
    {
     "data": {
      "text/html": [
       "<div>\n",
       "<style scoped>\n",
       "    .dataframe tbody tr th:only-of-type {\n",
       "        vertical-align: middle;\n",
       "    }\n",
       "\n",
       "    .dataframe tbody tr th {\n",
       "        vertical-align: top;\n",
       "    }\n",
       "\n",
       "    .dataframe thead th {\n",
       "        text-align: right;\n",
       "    }\n",
       "</style>\n",
       "<table border=\"1\" class=\"dataframe\">\n",
       "  <thead>\n",
       "    <tr style=\"text-align: right;\">\n",
       "      <th></th>\n",
       "      <th>Unnamed: 0</th>\n",
       "      <th>Unnamed: 0.1</th>\n",
       "      <th>created_at</th>\n",
       "      <th>handle</th>\n",
       "      <th>mined_at</th>\n",
       "      <th>retweet_count</th>\n",
       "      <th>text</th>\n",
       "      <th>tweet_id</th>\n",
       "    </tr>\n",
       "  </thead>\n",
       "  <tbody>\n",
       "    <tr>\n",
       "      <th>0</th>\n",
       "      <td>NaN</td>\n",
       "      <td>NaN</td>\n",
       "      <td>Fri Apr 26 12:47:27 +0000 2019</td>\n",
       "      <td>Noam Chomsky</td>\n",
       "      <td>2019-05-05 11:01:59.169921</td>\n",
       "      <td>71</td>\n",
       "      <td>joseph stiglitz: elizabeth warren &amp;amp; #berniesanders want to make the economy work for all americans https://t.co/48sgdhhrzd</td>\n",
       "      <td>1121757681646231559</td>\n",
       "    </tr>\n",
       "    <tr>\n",
       "      <th>1</th>\n",
       "      <td>NaN</td>\n",
       "      <td>NaN</td>\n",
       "      <td>Thu Apr 25 15:00:45 +0000 2019</td>\n",
       "      <td>Noam Chomsky</td>\n",
       "      <td>2019-05-05 11:01:59.169937</td>\n",
       "      <td>347</td>\n",
       "      <td>there are two sets of principles. they are the principles of power and privilege and the principles of truth and ju… https://t.co/llcsshfi8w</td>\n",
       "      <td>1121428840407023616</td>\n",
       "    </tr>\n",
       "    <tr>\n",
       "      <th>2</th>\n",
       "      <td>NaN</td>\n",
       "      <td>NaN</td>\n",
       "      <td>Wed Apr 24 12:15:34 +0000 2019</td>\n",
       "      <td>Noam Chomsky</td>\n",
       "      <td>2019-05-05 11:01:59.169940</td>\n",
       "      <td>129</td>\n",
       "      <td>the dominant #propaganda systems have appropriated the term \"globalization\" to refer to the specific version of int… https://t.co/zxw5vvg5c7</td>\n",
       "      <td>1121024884434448384</td>\n",
       "    </tr>\n",
       "    <tr>\n",
       "      <th>3</th>\n",
       "      <td>NaN</td>\n",
       "      <td>NaN</td>\n",
       "      <td>Wed Apr 24 12:14:56 +0000 2019</td>\n",
       "      <td>Noam Chomsky</td>\n",
       "      <td>2019-05-05 11:01:59.169944</td>\n",
       "      <td>151</td>\n",
       "      <td>globalization is the result of powerful governments, especially that of the united states, pushing trade deals and… https://t.co/5yr2qrcjxr</td>\n",
       "      <td>1121024723771625472</td>\n",
       "    </tr>\n",
       "    <tr>\n",
       "      <th>4</th>\n",
       "      <td>NaN</td>\n",
       "      <td>NaN</td>\n",
       "      <td>Sun Apr 21 17:50:18 +0000 2019</td>\n",
       "      <td>Noam Chomsky</td>\n",
       "      <td>2019-05-05 11:01:59.169947</td>\n",
       "      <td>155</td>\n",
       "      <td>#: by focusing on russia, democrats handed trump a “huge gift” &amp;amp; possibly the 2020 election https://t.co/tg9ziomtpi</td>\n",
       "      <td>1120021959096578048</td>\n",
       "    </tr>\n",
       "  </tbody>\n",
       "</table>\n",
       "</div>"
      ],
      "text/plain": [
       "   Unnamed: 0  Unnamed: 0.1                      created_at        handle  \\\n",
       "0         NaN           NaN  Fri Apr 26 12:47:27 +0000 2019  Noam Chomsky   \n",
       "1         NaN           NaN  Thu Apr 25 15:00:45 +0000 2019  Noam Chomsky   \n",
       "2         NaN           NaN  Wed Apr 24 12:15:34 +0000 2019  Noam Chomsky   \n",
       "3         NaN           NaN  Wed Apr 24 12:14:56 +0000 2019  Noam Chomsky   \n",
       "4         NaN           NaN  Sun Apr 21 17:50:18 +0000 2019  Noam Chomsky   \n",
       "\n",
       "                     mined_at  retweet_count  \\\n",
       "0  2019-05-05 11:01:59.169921             71   \n",
       "1  2019-05-05 11:01:59.169937            347   \n",
       "2  2019-05-05 11:01:59.169940            129   \n",
       "3  2019-05-05 11:01:59.169944            151   \n",
       "4  2019-05-05 11:01:59.169947            155   \n",
       "\n",
       "                                                                                                                                           text  \\\n",
       "0                joseph stiglitz: elizabeth warren &amp; #berniesanders want to make the economy work for all americans https://t.co/48sgdhhrzd   \n",
       "1  there are two sets of principles. they are the principles of power and privilege and the principles of truth and ju… https://t.co/llcsshfi8w   \n",
       "2  the dominant #propaganda systems have appropriated the term \"globalization\" to refer to the specific version of int… https://t.co/zxw5vvg5c7   \n",
       "3   globalization is the result of powerful governments, especially that of the united states, pushing trade deals and… https://t.co/5yr2qrcjxr   \n",
       "4                       #: by focusing on russia, democrats handed trump a “huge gift” &amp; possibly the 2020 election https://t.co/tg9ziomtpi   \n",
       "\n",
       "              tweet_id  \n",
       "0  1121757681646231559  \n",
       "1  1121428840407023616  \n",
       "2  1121024884434448384  \n",
       "3  1121024723771625472  \n",
       "4  1120021959096578048  "
      ]
     },
     "execution_count": 49,
     "metadata": {},
     "output_type": "execute_result"
    }
   ],
   "source": [
    "Left.head()"
   ]
  },
  {
   "cell_type": "code",
   "execution_count": 50,
   "metadata": {},
   "outputs": [],
   "source": [
    "Left['Political Orientation'] = 'Left'"
   ]
  },
  {
   "cell_type": "code",
   "execution_count": null,
   "metadata": {},
   "outputs": [],
   "source": []
  },
  {
   "cell_type": "code",
   "execution_count": 51,
   "metadata": {},
   "outputs": [
    {
     "data": {
      "text/html": [
       "<div>\n",
       "<style scoped>\n",
       "    .dataframe tbody tr th:only-of-type {\n",
       "        vertical-align: middle;\n",
       "    }\n",
       "\n",
       "    .dataframe tbody tr th {\n",
       "        vertical-align: top;\n",
       "    }\n",
       "\n",
       "    .dataframe thead th {\n",
       "        text-align: right;\n",
       "    }\n",
       "</style>\n",
       "<table border=\"1\" class=\"dataframe\">\n",
       "  <thead>\n",
       "    <tr style=\"text-align: right;\">\n",
       "      <th></th>\n",
       "      <th>Unnamed: 0</th>\n",
       "      <th>Unnamed: 0.1</th>\n",
       "      <th>created_at</th>\n",
       "      <th>handle</th>\n",
       "      <th>mined_at</th>\n",
       "      <th>retweet_count</th>\n",
       "      <th>text</th>\n",
       "      <th>tweet_id</th>\n",
       "      <th>Political Orientation</th>\n",
       "    </tr>\n",
       "  </thead>\n",
       "  <tbody>\n",
       "    <tr>\n",
       "      <th>0</th>\n",
       "      <td>NaN</td>\n",
       "      <td>NaN</td>\n",
       "      <td>Fri Apr 26 12:47:27 +0000 2019</td>\n",
       "      <td>Noam Chomsky</td>\n",
       "      <td>2019-05-05 11:01:59.169921</td>\n",
       "      <td>71</td>\n",
       "      <td>joseph stiglitz: elizabeth warren &amp;amp; #berniesanders want to make the economy work for all americans https://t.co/48sgdhhrzd</td>\n",
       "      <td>1121757681646231559</td>\n",
       "      <td>Left</td>\n",
       "    </tr>\n",
       "    <tr>\n",
       "      <th>1</th>\n",
       "      <td>NaN</td>\n",
       "      <td>NaN</td>\n",
       "      <td>Thu Apr 25 15:00:45 +0000 2019</td>\n",
       "      <td>Noam Chomsky</td>\n",
       "      <td>2019-05-05 11:01:59.169937</td>\n",
       "      <td>347</td>\n",
       "      <td>there are two sets of principles. they are the principles of power and privilege and the principles of truth and ju… https://t.co/llcsshfi8w</td>\n",
       "      <td>1121428840407023616</td>\n",
       "      <td>Left</td>\n",
       "    </tr>\n",
       "    <tr>\n",
       "      <th>2</th>\n",
       "      <td>NaN</td>\n",
       "      <td>NaN</td>\n",
       "      <td>Wed Apr 24 12:15:34 +0000 2019</td>\n",
       "      <td>Noam Chomsky</td>\n",
       "      <td>2019-05-05 11:01:59.169940</td>\n",
       "      <td>129</td>\n",
       "      <td>the dominant #propaganda systems have appropriated the term \"globalization\" to refer to the specific version of int… https://t.co/zxw5vvg5c7</td>\n",
       "      <td>1121024884434448384</td>\n",
       "      <td>Left</td>\n",
       "    </tr>\n",
       "    <tr>\n",
       "      <th>3</th>\n",
       "      <td>NaN</td>\n",
       "      <td>NaN</td>\n",
       "      <td>Wed Apr 24 12:14:56 +0000 2019</td>\n",
       "      <td>Noam Chomsky</td>\n",
       "      <td>2019-05-05 11:01:59.169944</td>\n",
       "      <td>151</td>\n",
       "      <td>globalization is the result of powerful governments, especially that of the united states, pushing trade deals and… https://t.co/5yr2qrcjxr</td>\n",
       "      <td>1121024723771625472</td>\n",
       "      <td>Left</td>\n",
       "    </tr>\n",
       "    <tr>\n",
       "      <th>4</th>\n",
       "      <td>NaN</td>\n",
       "      <td>NaN</td>\n",
       "      <td>Sun Apr 21 17:50:18 +0000 2019</td>\n",
       "      <td>Noam Chomsky</td>\n",
       "      <td>2019-05-05 11:01:59.169947</td>\n",
       "      <td>155</td>\n",
       "      <td>#: by focusing on russia, democrats handed trump a “huge gift” &amp;amp; possibly the 2020 election https://t.co/tg9ziomtpi</td>\n",
       "      <td>1120021959096578048</td>\n",
       "      <td>Left</td>\n",
       "    </tr>\n",
       "  </tbody>\n",
       "</table>\n",
       "</div>"
      ],
      "text/plain": [
       "   Unnamed: 0  Unnamed: 0.1                      created_at        handle  \\\n",
       "0         NaN           NaN  Fri Apr 26 12:47:27 +0000 2019  Noam Chomsky   \n",
       "1         NaN           NaN  Thu Apr 25 15:00:45 +0000 2019  Noam Chomsky   \n",
       "2         NaN           NaN  Wed Apr 24 12:15:34 +0000 2019  Noam Chomsky   \n",
       "3         NaN           NaN  Wed Apr 24 12:14:56 +0000 2019  Noam Chomsky   \n",
       "4         NaN           NaN  Sun Apr 21 17:50:18 +0000 2019  Noam Chomsky   \n",
       "\n",
       "                     mined_at  retweet_count  \\\n",
       "0  2019-05-05 11:01:59.169921             71   \n",
       "1  2019-05-05 11:01:59.169937            347   \n",
       "2  2019-05-05 11:01:59.169940            129   \n",
       "3  2019-05-05 11:01:59.169944            151   \n",
       "4  2019-05-05 11:01:59.169947            155   \n",
       "\n",
       "                                                                                                                                           text  \\\n",
       "0                joseph stiglitz: elizabeth warren &amp; #berniesanders want to make the economy work for all americans https://t.co/48sgdhhrzd   \n",
       "1  there are two sets of principles. they are the principles of power and privilege and the principles of truth and ju… https://t.co/llcsshfi8w   \n",
       "2  the dominant #propaganda systems have appropriated the term \"globalization\" to refer to the specific version of int… https://t.co/zxw5vvg5c7   \n",
       "3   globalization is the result of powerful governments, especially that of the united states, pushing trade deals and… https://t.co/5yr2qrcjxr   \n",
       "4                       #: by focusing on russia, democrats handed trump a “huge gift” &amp; possibly the 2020 election https://t.co/tg9ziomtpi   \n",
       "\n",
       "              tweet_id Political Orientation  \n",
       "0  1121757681646231559                  Left  \n",
       "1  1121428840407023616                  Left  \n",
       "2  1121024884434448384                  Left  \n",
       "3  1121024723771625472                  Left  \n",
       "4  1120021959096578048                  Left  "
      ]
     },
     "execution_count": 51,
     "metadata": {},
     "output_type": "execute_result"
    }
   ],
   "source": [
    "Left.head()"
   ]
  },
  {
   "cell_type": "code",
   "execution_count": 52,
   "metadata": {},
   "outputs": [
    {
     "data": {
      "text/plain": [
       "Index(['Unnamed: 0', 'Unnamed: 0.1', 'created_at', 'handle', 'mined_at',\n",
       "       'retweet_count', 'text', 'tweet_id', 'Political Orientation'],\n",
       "      dtype='object')"
      ]
     },
     "execution_count": 52,
     "metadata": {},
     "output_type": "execute_result"
    }
   ],
   "source": [
    "Left.columns"
   ]
  },
  {
   "cell_type": "code",
   "execution_count": 53,
   "metadata": {},
   "outputs": [],
   "source": [
    "Left = Left.drop(['Unnamed: 0', 'Unnamed: 0.1'], axis=1)"
   ]
  },
  {
   "cell_type": "code",
   "execution_count": 54,
   "metadata": {},
   "outputs": [
    {
     "data": {
      "text/html": [
       "<div>\n",
       "<style scoped>\n",
       "    .dataframe tbody tr th:only-of-type {\n",
       "        vertical-align: middle;\n",
       "    }\n",
       "\n",
       "    .dataframe tbody tr th {\n",
       "        vertical-align: top;\n",
       "    }\n",
       "\n",
       "    .dataframe thead th {\n",
       "        text-align: right;\n",
       "    }\n",
       "</style>\n",
       "<table border=\"1\" class=\"dataframe\">\n",
       "  <thead>\n",
       "    <tr style=\"text-align: right;\">\n",
       "      <th></th>\n",
       "      <th>created_at</th>\n",
       "      <th>handle</th>\n",
       "      <th>mined_at</th>\n",
       "      <th>retweet_count</th>\n",
       "      <th>text</th>\n",
       "      <th>tweet_id</th>\n",
       "      <th>Political Orientation</th>\n",
       "    </tr>\n",
       "  </thead>\n",
       "  <tbody>\n",
       "    <tr>\n",
       "      <th>0</th>\n",
       "      <td>Fri Apr 26 12:47:27 +0000 2019</td>\n",
       "      <td>Noam Chomsky</td>\n",
       "      <td>2019-05-05 11:01:59.169921</td>\n",
       "      <td>71</td>\n",
       "      <td>joseph stiglitz: elizabeth warren &amp;amp; #berniesanders want to make the economy work for all americans https://t.co/48sgdhhrzd</td>\n",
       "      <td>1121757681646231559</td>\n",
       "      <td>Left</td>\n",
       "    </tr>\n",
       "    <tr>\n",
       "      <th>1</th>\n",
       "      <td>Thu Apr 25 15:00:45 +0000 2019</td>\n",
       "      <td>Noam Chomsky</td>\n",
       "      <td>2019-05-05 11:01:59.169937</td>\n",
       "      <td>347</td>\n",
       "      <td>there are two sets of principles. they are the principles of power and privilege and the principles of truth and ju… https://t.co/llcsshfi8w</td>\n",
       "      <td>1121428840407023616</td>\n",
       "      <td>Left</td>\n",
       "    </tr>\n",
       "    <tr>\n",
       "      <th>2</th>\n",
       "      <td>Wed Apr 24 12:15:34 +0000 2019</td>\n",
       "      <td>Noam Chomsky</td>\n",
       "      <td>2019-05-05 11:01:59.169940</td>\n",
       "      <td>129</td>\n",
       "      <td>the dominant #propaganda systems have appropriated the term \"globalization\" to refer to the specific version of int… https://t.co/zxw5vvg5c7</td>\n",
       "      <td>1121024884434448384</td>\n",
       "      <td>Left</td>\n",
       "    </tr>\n",
       "    <tr>\n",
       "      <th>3</th>\n",
       "      <td>Wed Apr 24 12:14:56 +0000 2019</td>\n",
       "      <td>Noam Chomsky</td>\n",
       "      <td>2019-05-05 11:01:59.169944</td>\n",
       "      <td>151</td>\n",
       "      <td>globalization is the result of powerful governments, especially that of the united states, pushing trade deals and… https://t.co/5yr2qrcjxr</td>\n",
       "      <td>1121024723771625472</td>\n",
       "      <td>Left</td>\n",
       "    </tr>\n",
       "    <tr>\n",
       "      <th>4</th>\n",
       "      <td>Sun Apr 21 17:50:18 +0000 2019</td>\n",
       "      <td>Noam Chomsky</td>\n",
       "      <td>2019-05-05 11:01:59.169947</td>\n",
       "      <td>155</td>\n",
       "      <td>#: by focusing on russia, democrats handed trump a “huge gift” &amp;amp; possibly the 2020 election https://t.co/tg9ziomtpi</td>\n",
       "      <td>1120021959096578048</td>\n",
       "      <td>Left</td>\n",
       "    </tr>\n",
       "  </tbody>\n",
       "</table>\n",
       "</div>"
      ],
      "text/plain": [
       "                       created_at        handle                    mined_at  \\\n",
       "0  Fri Apr 26 12:47:27 +0000 2019  Noam Chomsky  2019-05-05 11:01:59.169921   \n",
       "1  Thu Apr 25 15:00:45 +0000 2019  Noam Chomsky  2019-05-05 11:01:59.169937   \n",
       "2  Wed Apr 24 12:15:34 +0000 2019  Noam Chomsky  2019-05-05 11:01:59.169940   \n",
       "3  Wed Apr 24 12:14:56 +0000 2019  Noam Chomsky  2019-05-05 11:01:59.169944   \n",
       "4  Sun Apr 21 17:50:18 +0000 2019  Noam Chomsky  2019-05-05 11:01:59.169947   \n",
       "\n",
       "   retweet_count  \\\n",
       "0             71   \n",
       "1            347   \n",
       "2            129   \n",
       "3            151   \n",
       "4            155   \n",
       "\n",
       "                                                                                                                                           text  \\\n",
       "0                joseph stiglitz: elizabeth warren &amp; #berniesanders want to make the economy work for all americans https://t.co/48sgdhhrzd   \n",
       "1  there are two sets of principles. they are the principles of power and privilege and the principles of truth and ju… https://t.co/llcsshfi8w   \n",
       "2  the dominant #propaganda systems have appropriated the term \"globalization\" to refer to the specific version of int… https://t.co/zxw5vvg5c7   \n",
       "3   globalization is the result of powerful governments, especially that of the united states, pushing trade deals and… https://t.co/5yr2qrcjxr   \n",
       "4                       #: by focusing on russia, democrats handed trump a “huge gift” &amp; possibly the 2020 election https://t.co/tg9ziomtpi   \n",
       "\n",
       "              tweet_id Political Orientation  \n",
       "0  1121757681646231559                  Left  \n",
       "1  1121428840407023616                  Left  \n",
       "2  1121024884434448384                  Left  \n",
       "3  1121024723771625472                  Left  \n",
       "4  1120021959096578048                  Left  "
      ]
     },
     "execution_count": 54,
     "metadata": {},
     "output_type": "execute_result"
    }
   ],
   "source": [
    "Left.head()"
   ]
  },
  {
   "cell_type": "code",
   "execution_count": 55,
   "metadata": {},
   "outputs": [],
   "source": [
    "Left.to_csv('Left.csv', index=False)"
   ]
  },
  {
   "cell_type": "code",
   "execution_count": 24,
   "metadata": {},
   "outputs": [
    {
     "ename": "ImportError",
     "evalue": "cannot import name 'Tweetifier'",
     "output_type": "error",
     "traceback": [
      "\u001b[0;31m---------------------------------------------------------------------------\u001b[0m",
      "\u001b[0;31mImportError\u001b[0m                               Traceback (most recent call last)",
      "\u001b[0;32m<ipython-input-24-1ad423235cd0>\u001b[0m in \u001b[0;36m<module>\u001b[0;34m\u001b[0m\n\u001b[0;32m----> 1\u001b[0;31m \u001b[0;32mfrom\u001b[0m \u001b[0mtwc\u001b[0m \u001b[0;32mimport\u001b[0m \u001b[0mTweetifier\u001b[0m\u001b[0;34m\u001b[0m\u001b[0;34m\u001b[0m\u001b[0m\n\u001b[0m",
      "\u001b[0;31mImportError\u001b[0m: cannot import name 'Tweetifier'"
     ]
    }
   ],
   "source": [
    "from twc import Tweetifier"
   ]
  },
  {
   "cell_type": "code",
   "execution_count": 23,
   "metadata": {},
   "outputs": [
    {
     "ename": "ModuleNotFoundError",
     "evalue": "No module named 'twc.Tweetifier'",
     "output_type": "error",
     "traceback": [
      "\u001b[0;31m---------------------------------------------------------------------------\u001b[0m",
      "\u001b[0;31mModuleNotFoundError\u001b[0m                       Traceback (most recent call last)",
      "\u001b[0;32m<ipython-input-23-2314f552e29d>\u001b[0m in \u001b[0;36m<module>\u001b[0;34m\u001b[0m\n\u001b[0;32m----> 1\u001b[0;31m \u001b[0;32mfrom\u001b[0m \u001b[0mtwc\u001b[0m\u001b[0;34m.\u001b[0m\u001b[0mTweetifier\u001b[0m \u001b[0;32mimport\u001b[0m \u001b[0mTweetifier\u001b[0m\u001b[0;34m\u001b[0m\u001b[0;34m\u001b[0m\u001b[0m\n\u001b[0m",
      "\u001b[0;31mModuleNotFoundError\u001b[0m: No module named 'twc.Tweetifier'"
     ]
    }
   ],
   "source": [
    "from twc.Tweetifier import Tweetifier"
   ]
  },
  {
   "cell_type": "code",
   "execution_count": null,
   "metadata": {},
   "outputs": [],
   "source": []
  }
 ],
 "metadata": {
  "kernelspec": {
   "display_name": "Python 3",
   "language": "python",
   "name": "python3"
  },
  "language_info": {
   "codemirror_mode": {
    "name": "ipython",
    "version": 3
   },
   "file_extension": ".py",
   "mimetype": "text/x-python",
   "name": "python",
   "nbconvert_exporter": "python",
   "pygments_lexer": "ipython3",
   "version": "3.6.8"
  }
 },
 "nbformat": 4,
 "nbformat_minor": 2
}
